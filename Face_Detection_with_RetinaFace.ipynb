{
  "cells": [
    {
      "cell_type": "code",
      "source": [
        "!pip install retina-face"
      ],
      "metadata": {
        "id": "cuGBdRbrI3zT"
      },
      "execution_count": null,
      "outputs": []
    },
    {
      "cell_type": "code",
      "source": [
        "from google.colab import drive\n",
        "drive.mount('/content/drive')"
      ],
      "metadata": {
        "id": "dD-pyxCDI45v"
      },
      "execution_count": null,
      "outputs": []
    },
    {
      "cell_type": "code",
      "execution_count": 11,
      "metadata": {
        "id": "C7g3VilQxpX9"
      },
      "outputs": [],
      "source": [
        "import cv2\n",
        "import matplotlib.pyplot as plt\n",
        "\n",
        "from retinaface import RetinaFace\n",
        "\n",
        "image_path = \"/content/drive/MyDrive/PF10/Image/T1.jpg\"\n",
        "base_image = cv2.imread(image_path)\n",
        "face_detection = RetinaFace.extract_faces(img_path = image_path, align = False)\n",
        "face_alignment = RetinaFace.extract_faces(img_path = image_path, align = True)\n",
        "base_image=cv2.imread(image_path)\n",
        "\n",
        "fig, axes = plt.subplots(1, 3, figsize = (6, 6))\n",
        "fig.tight_layout()\n",
        "axes = axes.ravel()\n",
        "\n",
        "axes[0].imshow(base_image[:, :, ::-1])\n",
        "axes[0].text(0.5, -0.23, \"Face Alignment\", size=10, ha=\"center\", transform=axes[0].transAxes)\n",
        "for face in face_detection:\n",
        "    axes[1].imshow(face)\n",
        "    axes[1].text(0.5, -0.23, \"Face Alignment\", size=10, ha=\"center\", transform=axes[1].transAxes)\n",
        "\n",
        "for face in face_alignment:\n",
        "    axes[2].imshow(face)\n",
        "    axes[2].text(0.5, -0.23, \"Face Alignment\", size=10, ha=\"center\", transform=axes[2].transAxes)\n",
        "plt.show()\n",
        "\n",
        "# Code Reference: https://pypi.org/project/retina-face/"
      ]
    }
  ],
  "metadata": {
    "accelerator": "GPU",
    "colab": {
      "provenance": []
    },
    "kernelspec": {
      "display_name": "Python 3",
      "name": "python3"
    },
    "language_info": {
      "name": "python"
    }
  },
  "nbformat": 4,
  "nbformat_minor": 0
}